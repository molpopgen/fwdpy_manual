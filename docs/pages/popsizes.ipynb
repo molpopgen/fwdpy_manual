{
 "cells": [
  {
   "cell_type": "markdown",
   "metadata": {},
   "source": [
    "# Example: modeling changes in population size"
   ]
  },
  {
   "cell_type": "raw",
   "metadata": {},
   "source": [
    "Many simulation functions in this package accept an array of integers as an argument.  See, for example, the 'nlist' argument of :func:`fwdpy.fwdpy.evolve_regions`.  This array represents the population size over time, and the length of the array is the number of generations to simulate.  \n",
    "\n",
    "The array may be on of the following types:\n",
    "\n",
    "* A Python array_ of 32-bit unsigned integers\n",
    "* A NumPy_ array of 32-bit unsigned integers, and a \"view\" of the array is passed to the simulation function.\n",
    "\n",
    "Most of the examples in the package documentation use the Numpy array.  However, the array.array views have a similar syntax, outside of the initial initialization."
   ]
  },
  {
   "cell_type": "markdown",
   "metadata": {},
   "source": [
    "## Simple example\n",
    "\n",
    "Let's look at an example:"
   ]
  },
  {
   "cell_type": "code",
   "execution_count": 1,
   "metadata": {
    "collapsed": false
   },
   "outputs": [
    {
     "name": "stdout",
     "output_type": "stream",
     "text": [
      "Populating the interactive namespace from numpy and matplotlib\n"
     ]
    },
    {
     "data": {
      "text/plain": [
       "array([1000, 1000, 1000, ..., 1000, 1000, 1000], dtype=uint32)"
      ]
     },
     "execution_count": 1,
     "metadata": {},
     "output_type": "execute_result"
    }
   ],
   "source": [
    "%matplotlib inline\n",
    "%pylab inline\n",
    "from __future__ import print_function\n",
    "import numpy as np\n",
    "import array\n",
    "import matplotlib.pyplot as plt\n",
    "#population size\n",
    "N=1000\n",
    "#nlist corresponds to a constant population size for 10N generations\n",
    "#note the \"dtype\" argument.  Without it, we'd be defaulting to int64,\n",
    "#which is a 64-bit signed integer.\n",
    "nlist=np.array([N]*(10*N),dtype=np.uint32)\n",
    "#This is a 'view' of the array starting from the beginning:\n",
    "nlist[0:]"
   ]
  },
  {
   "cell_type": "markdown",
   "metadata": {},
   "source": [
    "## A simple bottleneck\n",
    "\n",
    "In order to change population size, one simply has to change the values in the \"nlist\".   For example, here is a population bottleneck:"
   ]
  },
  {
   "cell_type": "code",
   "execution_count": 2,
   "metadata": {
    "collapsed": false
   },
   "outputs": [
    {
     "data": {
      "text/plain": [
       "(0, 1500.0)"
      ]
     },
     "execution_count": 2,
     "metadata": {},
     "output_type": "execute_result"
    },
    {
     "data": {
      "image/png": "[encoded data removed]",
      "text/plain": [
       "<matplotlib.figure.Figure at 0x1045de5d0>"
      ]
     },
     "metadata": {},
     "output_type": "display_data"
    }
   ],
   "source": [
    "#Evolve for 10N generations,\n",
    "#bottleneck to 0.25N for 100 generations,\n",
    "#recover to N for 50 generations\n",
    "nlist = np.concatenate(([N]*(10*N),[int(0.25*N)]*100,[N]*50)).astype(np.int32)\n",
    "plt.plot(nlist[0:])\n",
    "plt.ylim(0,1.5*N)"
   ]
  },
  {
   "cell_type": "markdown",
   "metadata": {},
   "source": [
    "Please note the last command, which changes the concatenated array from an array of 64 bit signed integers to 32 bit unsigned integers."
   ]
  },
  {
   "cell_type": "markdown",
   "metadata": {},
   "source": [
    "## Exponential growth\n",
    "\n",
    "Now, let's do population growth, where we evolve for 10N generations, and then grow the population five fold in the next 500 generations."
   ]
  },
  {
   "cell_type": "code",
   "execution_count": 3,
   "metadata": {
    "collapsed": false
   },
   "outputs": [
    {
     "data": {
      "text/plain": [
       "[<matplotlib.lines.Line2D at 0x1047e21d0>]"
      ]
     },
     "execution_count": 3,
     "metadata": {},
     "output_type": "execute_result"
    },
    {
     "data": {
      "image/png": "[encoded data removed]",
      "text/plain": [
       "<matplotlib.figure.Figure at 0x104650110>"
      ]
     },
     "metadata": {},
     "output_type": "display_data"
    }
   ],
   "source": [
    "import math\n",
    "N2=5*N\n",
    "tgrowth=500\n",
    "#G is the growth rate\n",
    "G = math.exp( (math.log(N2)-math.log(N))/float(tgrowth) )\n",
    "nlist = np.array([N]*(10*N+tgrowth),dtype=np.uint32)\n",
    "#Now, modify the list according to expoential growth rate\n",
    "for i in range(tgrowth):\n",
    "     nlist[10*N+i] = round( N*math.pow(G,i+1) )\n",
    "##Now, we see that the population does grown from\n",
    "##N=1,000 to N=5,000 during the last 500 generations\n",
    "## We need the + 1 below to transform\n",
    "## from the generation's index to the generation itself\n",
    "plt.plot(range(10*N+1,10*N+501,1),nlist[10*N:])"
   ]
  },
  {
   "cell_type": "markdown",
   "metadata": {},
   "source": [
    "## Potential caveat\n",
    "\n",
    "* Getting the integer type incorrect.  With numpy, it must by dtype=uint32.  With array.array, it must be 'I'.  Getting it wrong will result in a run-time error."
   ]
  },
  {
   "cell_type": "markdown",
   "metadata": {},
   "source": [
    "## Rationale\n",
    "\n",
    "Why do things with [NumPy](http://www.numpy.org) arrays or Python's array.array?  Lots of reasons:\n",
    "\n",
    "1. They are fast\n",
    "2. The uint32 is the same type used in [fwdpp](http://molpopgen.github.io/fwdpp)\n",
    "3. The 32 bit integer takes half the memory as the default 64 bit intger type of a Python list.\n",
    "4. Cython lets us directly pass the underlying data to C++, eliminating the need for a copy when going from Python to C++."
   ]
  },
  {
   "cell_type": "raw",
   "metadata": {},
   "source": [
    ".. _NumPy: http://www.numpy.org\n",
    ".. _array: https://docs.python.org/2/library/array.html"
   ]
  }
 ],
 "metadata": {
  "kernelspec": {
   "display_name": "Python 2",
   "language": "python",
   "name": "python2"
  },
  "language_info": {
   "codemirror_mode": {
    "name": "ipython",
    "version": 2
   },
   "file_extension": ".py",
   "mimetype": "text/x-python",
   "name": "python",
   "nbconvert_exporter": "python",
   "pygments_lexer": "ipython2",
   "version": "2.7.10"
  }
 },
 "nbformat": 4,
 "nbformat_minor": 0
}
