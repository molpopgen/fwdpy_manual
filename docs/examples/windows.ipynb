{
 "cells": [
  {
   "cell_type": "markdown",
   "metadata": {},
   "source": [
    "# Example: Sliding windows\n",
    "\n",
    "There are two basic ways of getting sliding windows from simulated data:\n",
    "\n",
    "1.  Manually\n",
    "2.  Using [pylibseq](https://github.com/molpopgen/pylibseq)\n",
    "\n",
    "Both work, and both are pretty easy.\n",
    "\n"
   ]
  },
  {
   "cell_type": "code",
   "execution_count": 6,
   "metadata": {
    "collapsed": false
   },
   "outputs": [],
   "source": [
    "#import our modules\n",
    "from __future__ import print_function\n",
    "import fwdpy as fp\n",
    "import numpy as np\n",
    "import datetime\n",
    "import time"
   ]
  },
  {
   "cell_type": "code",
   "execution_count": 7,
   "metadata": {
    "collapsed": false
   },
   "outputs": [],
   "source": [
    "#set up our sim\n",
    "rng = fp.GSLrng(101)\n",
    "nregions = [fp.Region(0,1,1),fp.Region(2,3,1)]\n",
    "sregions = [fp.ExpS(1,2,1,-0.1),fp.ExpS(1,2,0.1,0.001)]\n",
    "rregions = [fp.Region(0,3,1)]\n",
    "popsizes = np.array([1000]*10000,dtype=np.uint32)"
   ]
  },
  {
   "cell_type": "code",
   "execution_count": 8,
   "metadata": {
    "collapsed": true
   },
   "outputs": [],
   "source": [
    "#Run the sim\n",
    "pops = fp.evolve_regions(rng,4,1000,popsizes[0:],0.001,0.0001,0.001,nregions,sregions,rregions)"
   ]
  },
  {
   "cell_type": "code",
   "execution_count": 9,
   "metadata": {
    "collapsed": true
   },
   "outputs": [],
   "source": [
    "#Take samples from the simulation\n",
    "samples = [fp.get_samples(rng,i,20) for i in pops]"
   ]
  },
  {
   "cell_type": "markdown",
   "metadata": {},
   "source": [
    "## Calculating sliding windows\n",
    "\n",
    "We are going to want non-overlapping widwos of size 0.1.\n",
    "\n",
    "One thing to keep track of is the total size of our region, which is the half-open interval $[0,3)$\n",
    "\n",
    "### Manual method\n",
    "\n",
    "Let's just do it using pure Python:"
   ]
  },
  {
   "cell_type": "code",
   "execution_count": 10,
   "metadata": {
    "collapsed": false
   },
   "outputs": [
    {
     "name": "stdout",
     "output_type": "stream",
     "text": [
      "30\n",
      "30\n",
      "30\n",
      "30\n"
     ]
    }
   ],
   "source": [
    "for i in samples:\n",
    "    windows = []\n",
    "    start = 0\n",
    "    while start < 3:\n",
    "        ##We will only look at neutral mutations, which are element 0 of each sampl\n",
    "        window = [j[0] for j in i[0] if (j[0] >=start and j[0] < start+0.1)]\n",
    "        windows.append(window)\n",
    "        start += 0.1\n",
    "    ##We now have a full set of windows that we can do something with\n",
    "    print (len(windows))  ##There should be 30, and many will be empy"
   ]
  },
  {
   "cell_type": "markdown",
   "metadata": {},
   "source": [
    "### Using [pylibseq](https://github.com/molpopgen/pylibseq)"
   ]
  },
  {
   "cell_type": "code",
   "execution_count": 11,
   "metadata": {
    "collapsed": false
   },
   "outputs": [
    {
     "name": "stdout",
     "output_type": "stream",
     "text": [
      "30\n",
      "30\n",
      "30\n",
      "30\n"
     ]
    }
   ],
   "source": [
    "from libsequence.windows import Windows\n",
    "from libsequence.polytable import SimData\n",
    "for i in samples:\n",
    "    ##We need to convert our list of tuples\n",
    "    ##into types that pylibseq/libsequence understand:\n",
    "    windows = Windows(SimData(i[0]),0.1,0.1,0,3)\n",
    "    ##Now, you can analyze the windows, etc.\n",
    "    print(len(windows))"
   ]
  },
  {
   "cell_type": "markdown",
   "metadata": {},
   "source": [
    "Well, the pylibseq version is clearly more compact.  Of course, you can/should abstract the pure Python version into a standalone function.\n",
    "\n",
    "Why would you ever use the manual version?  It can save you memory.  The pylibseq version constructs an iterable list of windows, meaning that there is an object allocated for each window.  For the manual version above, we grew a list of objects, but we could just have easily processed them and let them go out of scope."
   ]
  }
 ],
 "metadata": {
  "kernelspec": {
   "display_name": "Python 2",
   "language": "python",
   "name": "python2"
  },
  "language_info": {
   "codemirror_mode": {
    "name": "ipython",
    "version": 2
   },
   "file_extension": ".py",
   "mimetype": "text/x-python",
   "name": "python",
   "nbconvert_exporter": "python",
   "pygments_lexer": "ipython2",
   "version": "2.7.12"
  }
 },
 "nbformat": 4,
 "nbformat_minor": 0
}
