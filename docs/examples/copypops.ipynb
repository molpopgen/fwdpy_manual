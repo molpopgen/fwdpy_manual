{
 "cells": [
  {
   "cell_type": "markdown",
   "metadata": {},
   "source": [
    "# Copying populations in memory\n",
    "\n",
    "It is possible to make in-memory copies of populations, and then evolve the two populations independently.  Doing so makes use of the serialization features in the _fwdpy.fwdpyio_ module.  You do not need to import that module.  The routines used below do so transparently wihtout polluting the namespace for your session."
   ]
  },
  {
   "cell_type": "code",
   "execution_count": 1,
   "metadata": {
    "collapsed": false
   },
   "outputs": [],
   "source": [
    "import fwdpy as fp\n",
    "import numpy as np\n",
    "#Let's set up a simulation and evolve some populations...\n",
    "nregions = [fp.Region(0,1,1),fp.Region(2,3,1)]\n",
    "sregions = [fp.ExpS(1,2,1,-0.1),fp.ExpS(1,2,0.01,0.001)]\n",
    "rregions = [fp.Region(0,3,1)]\n",
    "rng = fp.GSLrng(201)\n",
    "popsizes = np.array([1000],dtype=np.uint32)\n",
    "popsizes=np.tile(popsizes,10000)\n",
    "pops = fp.evolve_regions(rng,1,1000,popsizes[0:],0.001,0.001,0.001,nregions,sregions,rregions)"
   ]
  },
  {
   "cell_type": "markdown",
   "metadata": {},
   "source": [
    "All of the above is pretty standard.  Let's make a copy of _pops_:"
   ]
  },
  {
   "cell_type": "code",
   "execution_count": 2,
   "metadata": {
    "collapsed": false
   },
   "outputs": [],
   "source": [
    "pops2 = fp.copypops(pops)"
   ]
  },
  {
   "cell_type": "code",
   "execution_count": 3,
   "metadata": {
    "collapsed": false
   },
   "outputs": [
    {
     "data": {
      "text/plain": [
       "<fwdpy.fwdpy.popvec at 0x7faaace9e2b8>"
      ]
     },
     "execution_count": 3,
     "metadata": {},
     "output_type": "execute_result"
    }
   ],
   "source": [
    "pops"
   ]
  },
  {
   "cell_type": "code",
   "execution_count": 4,
   "metadata": {
    "collapsed": false
   },
   "outputs": [
    {
     "data": {
      "text/plain": [
       "<fwdpy.fwdpy.popvec at 0x7faaace9e310>"
      ]
     },
     "execution_count": 4,
     "metadata": {},
     "output_type": "execute_result"
    }
   ],
   "source": [
    "pops2"
   ]
  },
  {
   "cell_type": "markdown",
   "metadata": {},
   "source": [
    "We see above that the two pops are occuppying different spaces in memory.\n",
    "\n",
    "Let's now evolve them further."
   ]
  },
  {
   "cell_type": "code",
   "execution_count": 5,
   "metadata": {
    "collapsed": false
   },
   "outputs": [],
   "source": [
    "#Evolve \"pops\"\n",
    "fp.evolve_regions_more(rng,pops,popsizes[0:],0.001,0.001,0.001,nregions,sregions,rregions)"
   ]
  },
  {
   "cell_type": "code",
   "execution_count": 6,
   "metadata": {
    "collapsed": false
   },
   "outputs": [],
   "source": [
    "#Now, let's evolve \"pops2\", and end with a short bottleneck (100 gens at N=500)\n",
    "popsizes = np.array([1000]*10000 + [500]*100,dtype=np.uint32)\n",
    "fp.evolve_regions_more(rng,pops2,popsizes[0:],0.001,0.001,0.001,nregions,sregions,rregions)"
   ]
  },
  {
   "cell_type": "code",
   "execution_count": 7,
   "metadata": {
    "collapsed": false
   },
   "outputs": [
    {
     "name": "stdout",
     "output_type": "stream",
     "text": [
      "1000   500\n",
      "20000   20100\n"
     ]
    }
   ],
   "source": [
    "for i in range(len(pops)):\n",
    "    print pops[i].popsize(),' ',pops2[i].popsize()\n",
    "    print pops[i].gen(),' ',pops2[i].gen()"
   ]
  },
  {
   "cell_type": "markdown",
   "metadata": {},
   "source": [
    "It is really that easy.  Now, you can evolve a population to equilibrium and then evolve copies of it within a for loop to get multiple quasi-independent replicates of bottlenecks, etc."
   ]
  }
 ],
 "metadata": {
  "kernelspec": {
   "display_name": "Python 2",
   "language": "python",
   "name": "python2"
  },
  "language_info": {
   "codemirror_mode": {
    "name": "ipython",
    "version": 2
   },
   "file_extension": ".py",
   "mimetype": "text/x-python",
   "name": "python",
   "nbconvert_exporter": "python",
   "pygments_lexer": "ipython2",
   "version": "2.7.6"
  }
 },
 "nbformat": 4,
 "nbformat_minor": 0
}
