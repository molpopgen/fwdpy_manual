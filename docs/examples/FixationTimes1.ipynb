{
 "cells": [
  {
   "cell_type": "markdown",
   "metadata": {},
   "source": [
    "# Distribution of fixation times with background selection\n",
    "\n",
    "This example mixes the simulation of positive selection with strongly-deleterious mutations (background selection, or \"BGS\" for short).\n",
    "\n",
    "The setup of the BGS model is the same as the other example.  This example adds the following:\n",
    "\n",
    "1. Include a class of beneficial mutations ($s>0$) and fitnesses $1, 1+s, 1+2s$ for the three genotypes.\n",
    "2. We will track the frequency trajectories of all selected mutations during every simulation\n",
    "3. From those trajectories, we will get the fixation times of all beneficial mutations.\n",
    "4. These fixation times will be recorded in a pandas DataFrame.\n",
    "\n",
    "This is the really cool part:\n",
    "\n",
    "5. We will send that DataFrame to R for plotting using ggplot."
   ]
  },
  {
   "cell_type": "code",
   "execution_count": 1,
   "metadata": {
    "collapsed": false
   },
   "outputs": [],
   "source": [
    "%load_ext rpy2.ipython"
   ]
  },
  {
   "cell_type": "code",
   "execution_count": 2,
   "metadata": {
    "collapsed": false
   },
   "outputs": [],
   "source": [
    "import fwdpy as fp\n",
    "import numpy as np\n",
    "import pandas as pd"
   ]
  },
  {
   "cell_type": "markdown",
   "metadata": {},
   "source": [
    "Our simulation is set up in the same manner that Hudson, Kaplan, and colleagues used to study the structured coalescent:\n",
    "\n",
    "1. Our locus of interest has mutations occurring along the interval $[0,1)$.\n",
    "2. That locus is flanked by loci where mutations causing BGS occur.\n",
    "\n",
    "The relevant details here are:\n",
    "\n",
    "1. We will simulate no neutral variants.\n",
    "2. Our positively-selected variants will occur in the \"locus\" of interest.\n",
    "3. Recombination will take place as a uniform process across all regions."
   ]
  },
  {
   "cell_type": "code",
   "execution_count": 3,
   "metadata": {
    "collapsed": true
   },
   "outputs": [],
   "source": [
    "#We will simulate no neutral mutations\n",
    "nregions = []\n",
    "\n",
    "#These are our \"BGS loci\"\n",
    "sregions = [fp.ConstantS(beg=-1,end=0,weight=1,s=-0.05,h=1),\n",
    "            fp.ConstantS(beg=1,end=2,weight=1,s=-0.05,h=1)]\n",
    "           \n",
    "#Recombination is uniform across whole region\n",
    "recregions = [fp.Region(beg=-1,end=2,weight=1)]\n",
    "\n",
    "#Population size\n",
    "N=1000\n",
    "##Evolve for 20N generations with constant N\n",
    "nlist = np.array([N]*20*N,dtype=np.uint32)\n",
    "\n",
    "#Random number generator\n",
    "rng = fp.GSLrng(101)"
   ]
  },
  {
   "cell_type": "markdown",
   "metadata": {},
   "source": [
    "We need to define a function to go from trajectories of selected mutations to lists of fixation times.  This function is trivial with Python's \"list comprehensions\":"
   ]
  },
  {
   "cell_type": "code",
   "execution_count": 4,
   "metadata": {
    "collapsed": true
   },
   "outputs": [],
   "source": [
    "def get_fixation_times(trajectories):\n",
    "    \"\"\"\n",
    "    Takes a set of trajectories, creates a list of fixation times, which is\n",
    "    returned.\n",
    "    \n",
    "    The elements in trajectories are a list, with element 0 a 'dict' containing\n",
    "    info about each variant, and element 1 being a list of frequencies over time.\n",
    "    \"\"\"\n",
    "    if len(trajectories.index)==0:\n",
    "        return []\n",
    "    groups=trajectories.groupby(['pos','esize','origin'])\n",
    "    for n,g in groups:\n",
    "        if g.freq.max() < 1.:\n",
    "            raise RuntimeError(\"this group is not a fixation\")\n",
    "    return [len(g.index) for n,g in groups]\n",
    "    #return[len(i[1]) for i in trajectories if max(i[1])==1 and i[0][b'esize']>0]"
   ]
  },
  {
   "cell_type": "markdown",
   "metadata": {},
   "source": [
    "Now, run the simulation itself.\n",
    "\n",
    "_Note:_  I'm only doing 40 replicates for each $s$, which is of course limiting.\n",
    "\n",
    "This example runs in a few minutes on my machine."
   ]
  },
  {
   "cell_type": "code",
   "execution_count": 5,
   "metadata": {
    "collapsed": false
   },
   "outputs": [],
   "source": [
    "#This will be our range of selection coefficients\n",
    "svals=[1e-3,1e-2,5e-2,1e-1]\n",
    "\n",
    "#This will be our number of populations/replicates\n",
    "NPOPS=40\n",
    "\n",
    "#A list to collect our intermediate pandas DataFrames\n",
    "df=[]\n",
    "\n",
    "for s in svals:\n",
    "        #Copy sregions from above\n",
    "        sregions_current=sregions\n",
    "        #Add a new region with +ve-ly selected variants.\n",
    "        #NEED TO ADD A COMMENT ABOUT WHAT THE WEIGHT HERE MEANS\n",
    "        sregions_current.append(fp.ConstantS(beg=0,end=1,weight=1e-3,s=s,h=1))\n",
    "        #Create a vector of 40 pops.\n",
    "        #This means that fwdpy will use 40 threads to simulate the 40 replicates.\n",
    "        pops = fp.SpopVec(NPOPS,N)\n",
    "        sampler=fp.FreqSampler(len(pops))\n",
    "        traj = fp.evolve_regions_sampler(rng,       \n",
    "                                        pops,         \n",
    "                                        sampler,\n",
    "                                        nlist[0:], #List of population sizes over time.\n",
    "                                        0.0,     #Neutral mutation rate = 0 (per gamete, per generation)\n",
    "                                        0.001,      #Mutation rate to selected variants(per gamete, per generation)\n",
    "                                        0.005,     #Recombination rate (per diploid, per generation)\n",
    "                                        nregions,  #Defined above\n",
    "                                        sregions_current,  #Defined above\n",
    "                                        recregions,  #Defined above\n",
    "                                        1)#update mutation frequency trajectories every generation\n",
    "        #We now have a list of trajectory objects,\n",
    "        #and our task is to collect the fixations from\n",
    "        #them.\n",
    "        raw_ftimes = [get_fixation_times(sampler.fetch(i,freq_filter = lambda x : x[-1][1]==1. )) for i in range(len(sampler))]\n",
    "        for i in raw_ftimes:\n",
    "            #Create a pandas DataFrame\n",
    "            if len(i)>0:\n",
    "                df.append(pd.DataFrame({'s':[s]*len(i),'ftimes':i}))\n",
    "        \n",
    "#catenate all the DataFrames, and we'll send them to R for plotting.\n",
    "dataForR=pd.concat(df)"
   ]
  },
  {
   "cell_type": "code",
   "execution_count": 6,
   "metadata": {
    "collapsed": false
   },
   "outputs": [
    {
     "name": "stderr",
     "output_type": "stream",
     "text": [
      "/usr/local/lib/python2.7/dist-packages/rpy2/rinterface/__init__.py:186: RRuntimeWarning: Loading required package: ggplot2\n",
      "\n",
      "  warnings.warn(x, RRuntimeWarning)\n"
     ]
    },
    {
     "data": {
      "text/plain": [
       "array([1], dtype=int32)"
      ]
     },
     "execution_count": 6,
     "metadata": {},
     "output_type": "execute_result"
    }
   ],
   "source": [
    "%R require(ggplot2)"
   ]
  },
  {
   "cell_type": "code",
   "execution_count": 7,
   "metadata": {
    "collapsed": false
   },
   "outputs": [
    {
     "name": "stderr",
     "output_type": "stream",
     "text": [
      "/usr/local/lib/python2.7/dist-packages/rpy2/rinterface/__init__.py:186: RRuntimeWarning: `stat_bin()` using `bins = 30`. Pick better value with `binwidth`.\n",
      "\n",
      "  warnings.warn(x, RRuntimeWarning)\n"
     ]
    },
    {
     "data": {
      "image/png": "[encoded data removed]"
     },
     "metadata": {},
     "output_type": "display_data"
    }
   ],
   "source": [
    "%%R -i dataForR\n",
    "p = ggplot(dataForR,aes(x=ftimes,y=..density..)) + \n",
    "geom_histogram() +  \n",
    "facet_wrap( ~s,nrow=2) + \n",
    "xlab(\"Fixation time (generations)\")\n",
    "print(p)"
   ]
  },
  {
   "cell_type": "code",
   "execution_count": 8,
   "metadata": {
    "collapsed": false
   },
   "outputs": [
    {
     "data": {
      "text/html": [
       "<div>\n",
       "<table border=\"1\" class=\"dataframe\">\n",
       "  <thead>\n",
       "    <tr style=\"text-align: right;\">\n",
       "      <th></th>\n",
       "      <th>ftimes</th>\n",
       "    </tr>\n",
       "    <tr>\n",
       "      <th>s</th>\n",
       "      <th></th>\n",
       "    </tr>\n",
       "  </thead>\n",
       "  <tbody>\n",
       "    <tr>\n",
       "      <th>0.001</th>\n",
       "      <td>3834.000000</td>\n",
       "    </tr>\n",
       "    <tr>\n",
       "      <th>0.010</th>\n",
       "      <td>1221.666667</td>\n",
       "    </tr>\n",
       "    <tr>\n",
       "      <th>0.050</th>\n",
       "      <td>377.150538</td>\n",
       "    </tr>\n",
       "    <tr>\n",
       "      <th>0.100</th>\n",
       "      <td>259.683168</td>\n",
       "    </tr>\n",
       "  </tbody>\n",
       "</table>\n",
       "</div>"
      ],
      "text/plain": [
       "            ftimes\n",
       "s                 \n",
       "0.001  3834.000000\n",
       "0.010  1221.666667\n",
       "0.050   377.150538\n",
       "0.100   259.683168"
      ]
     },
     "execution_count": 8,
     "metadata": {},
     "output_type": "execute_result"
    }
   ],
   "source": [
    "#Take a look at the mean time to fixation\n",
    "dataForR.groupby(['s']).mean()"
   ]
  },
  {
   "cell_type": "code",
   "execution_count": null,
   "metadata": {
    "collapsed": true
   },
   "outputs": [],
   "source": []
  }
 ],
 "metadata": {
  "kernelspec": {
   "display_name": "Python 2",
   "language": "python",
   "name": "python2"
  },
  "language_info": {
   "codemirror_mode": {
    "name": "ipython",
    "version": 2
   },
   "file_extension": ".py",
   "mimetype": "text/x-python",
   "name": "python",
   "nbconvert_exporter": "python",
   "pygments_lexer": "ipython2",
   "version": "2.7.12"
  }
 },
 "nbformat": 4,
 "nbformat_minor": 0
}
