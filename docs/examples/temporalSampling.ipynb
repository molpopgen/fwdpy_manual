{
 "cells": [
  {
   "cell_type": "markdown",
   "metadata": {},
   "source": [
    "# Temporal sampling"
   ]
  },
  {
   "cell_type": "raw",
   "metadata": {},
   "source": [
    "_fwdpy_ allows various things to be recorded over time during a simulation.  A family of objects referred to as \"temporal samplers\" perform these tasks.  All such objects are derived from the base class :class:`fwdpy.fwdpy.TemporalSampler`."
   ]
  },
  {
   "cell_type": "markdown",
   "metadata": {},
   "source": [
    "## Sampling nothing"
   ]
  },
  {
   "cell_type": "raw",
   "metadata": {},
   "source": [
    "Doing nothing is useful for evolving a population to equilibrium.  The relevant class is :class:`fwdpy.fwdpy.NothingSampler`.\n",
    "\n",
    "For convenience, :func:`fwdpy.fwdpy.evolve_regions` and :func:`fwdpy.fwdpy.evolve_regions_more` and :func:`fwdpy.fwdpy.evolve_regions_fitness` all implicitly use :class:`fwdpy.fwdpy.NothingSampler`."
   ]
  },
  {
   "cell_type": "markdown",
   "metadata": {},
   "source": [
    "Let's evolve 40 populations to mutation-drift equilibrium:"
   ]
  },
  {
   "cell_type": "code",
   "execution_count": 1,
   "metadata": {
    "collapsed": false
   },
   "outputs": [],
   "source": [
    "import fwdpy as fp\n",
    "import numpy as np\n",
    "import pandas as pd\n",
    "nregions=[fp.Region(0,1,1)]\n",
    "sregions=[fp.GammaS(0,1,0.1,0.1,0.1,1.0),\n",
    "          fp.GammaS(0,1,0.9,-0.2,9.0,0.0)\n",
    "         ]\n",
    "recregions=nregions\n",
    "N=1000\n",
    "nlist=np.array([N]*(10*N),dtype=np.uint32)\n",
    "mutrate_neutral=50.0/float(4*N)\n",
    "recrate=mutrate_neutral\n",
    "mutrate_sel=mutrate_neutral*0.2\n",
    "rng=fp.GSLrng(101)\n",
    "pops=fp.SpopVec(40,1000)\n",
    "sampler=fp.NothingSampler(len(pops))\n",
    "#This function implicitly uses a \"nothing sampler\"\n",
    "fp.evolve_regions_sampler(rng,pops,sampler,nlist,\n",
    "                          mutrate_neutral,\n",
    "                          0.0,   #No selected mutations....\n",
    "                          recrate,\n",
    "                          nregions,sregions,recregions,\n",
    "                          #Only sample every 10N generations,\n",
    "                          #which is fine b/c we're not sampling anything\n",
    "                          10*N)"
   ]
  },
  {
   "cell_type": "markdown",
   "metadata": {},
   "source": [
    "## Take samples from population"
   ]
  },
  {
   "cell_type": "raw",
   "metadata": {},
   "source": [
    "Example using :class:`fwdpy.fwdpy.PopSampler`"
   ]
  },
  {
   "cell_type": "code",
   "execution_count": 2,
   "metadata": {
    "collapsed": false
   },
   "outputs": [],
   "source": [
    "#Take sample of size n=20\n",
    "sampler=fp.PopSampler(len(pops),20,rng)\n",
    "fp.evolve_regions_sampler(rng,pops,sampler,\n",
    "                          nlist[:N], #Evolve for N generations\n",
    "                            mutrate_neutral,\n",
    "                            mutrate_sel,   \n",
    "                              recrate,\n",
    "                              nregions,sregions,recregions,\n",
    "                            #Sampler every 100 generations\n",
    "                              100)"
   ]
  },
  {
   "cell_type": "markdown",
   "metadata": {},
   "source": [
    "The output from this particular sampler type is a generator.  Let's look at the first element of the first sample:"
   ]
  },
  {
   "cell_type": "code",
   "execution_count": 4,
   "metadata": {
    "collapsed": false
   },
   "outputs": [],
   "source": [
    "data=sampler[0]"
   ]
  },
  {
   "cell_type": "code",
   "execution_count": 5,
   "metadata": {
    "collapsed": false
   },
   "outputs": [
    {
     "name": "stdout",
     "output_type": "stream",
     "text": [
      "(([(0.07927352748811245, '00000000000000001000'), (0.11939710704609752, '00100000000000000000'), (0.1569378236308694, '00000000100000000000'), (0.19993915781378746, '00001000000000000000'), (0.3642488766927272, '00000000000000001000'), (0.3924784071277827, '10000000000000000000'), (0.4982362166047096, '00001000000000000000'), (0.5306595861911774, '00000001000000000000'), (0.6011973915155977, '00000000000000000100'), (0.6021612668409944, '10000000000000000000'), (0.7797581860795617, '00000000001000000000'), (0.810913129709661, '00000000000100000000'), (0.8996576184872538, '00000000000000000100'), (0.9164007280487567, '00000000000000010000')], [(0.02243150118738413, '00000000001000000000'), (0.8127563807647675, '00001000000000000000'), (0.8615972911939025, '00001000000000000000')]), {'origin': [10090, 10018, 10076], 'generation': [10100, 10100, 10100], 'h': [0.0, 0.0, 0.0], 'locus': [0, 0, 0], 'p': [0.0035, 0.0475, 0.007], 's': [-0.31225451236724366, -0.12004595381424654, -0.13281077444110803], 'ftime': [4294967295, 4294967295, 4294967295], 'dcount': [1, 1, 1], 'label': [0, 0, 0]})\n"
     ]
    }
   ],
   "source": [
    "print data[0]"
   ]
  },
  {
   "cell_type": "markdown",
   "metadata": {},
   "source": [
    "These \"genotypes\" blocks can be used to caculate summary statistics. See the example on using [pylibseq](http://molpopgen.github.io/pylibseq/) for that task."
   ]
  },
  {
   "cell_type": "code",
   "execution_count": 6,
   "metadata": {
    "collapsed": false
   },
   "outputs": [
    {
     "name": "stdout",
     "output_type": "stream",
     "text": [
      "(([(0.04461725312285125, '00000100000000000000'), (0.41906465985812247, '00000000010000000000'), (0.5870706243440509, '00000000000000100000'), (0.7365321817342192, '00000000000001000000'), (0.8885768735781312, '00010000000000000000')], []), {'origin': [4294967295], 'generation': [10200], 'h': [nan], 'locus': [0], 'p': [nan], 's': [nan], 'ftime': [4294967295], 'dcount': [4294967295], 'label': [65535]})\n"
     ]
    }
   ],
   "source": [
    "print data[1]"
   ]
  },
  {
   "cell_type": "markdown",
   "metadata": {},
   "source": [
    "Each element in d[0] is a tuple:"
   ]
  },
  {
   "cell_type": "code",
   "execution_count": 7,
   "metadata": {
    "collapsed": false,
    "scrolled": true
   },
   "outputs": [
    {
     "data": {
      "text/plain": [
       "([(0.07927352748811245, '00000000000000001000'),\n",
       "  (0.11939710704609752, '00100000000000000000'),\n",
       "  (0.1569378236308694, '00000000100000000000'),\n",
       "  (0.19993915781378746, '00001000000000000000'),\n",
       "  (0.3642488766927272, '00000000000000001000'),\n",
       "  (0.3924784071277827, '10000000000000000000'),\n",
       "  (0.4982362166047096, '00001000000000000000'),\n",
       "  (0.5306595861911774, '00000001000000000000'),\n",
       "  (0.6011973915155977, '00000000000000000100'),\n",
       "  (0.6021612668409944, '10000000000000000000'),\n",
       "  (0.7797581860795617, '00000000001000000000'),\n",
       "  (0.810913129709661, '00000000000100000000'),\n",
       "  (0.8996576184872538, '00000000000000000100'),\n",
       "  (0.9164007280487567, '00000000000000010000')],\n",
       " [(0.02243150118738413, '00000000001000000000'),\n",
       "  (0.8127563807647675, '00001000000000000000'),\n",
       "  (0.8615972911939025, '00001000000000000000')])"
      ]
     },
     "execution_count": 7,
     "metadata": {},
     "output_type": "execute_result"
    }
   ],
   "source": [
    "#The first element are the genotypes\n",
    "data[0][0]"
   ]
  },
  {
   "cell_type": "code",
   "execution_count": 9,
   "metadata": {
    "collapsed": false
   },
   "outputs": [
    {
     "data": {
      "text/plain": [
       "[(0.07927352748811245, '00000000000000001000'),\n",
       " (0.11939710704609752, '00100000000000000000'),\n",
       " (0.1569378236308694, '00000000100000000000'),\n",
       " (0.19993915781378746, '00001000000000000000'),\n",
       " (0.3642488766927272, '00000000000000001000'),\n",
       " (0.3924784071277827, '10000000000000000000'),\n",
       " (0.4982362166047096, '00001000000000000000'),\n",
       " (0.5306595861911774, '00000001000000000000'),\n",
       " (0.6011973915155977, '00000000000000000100'),\n",
       " (0.6021612668409944, '10000000000000000000'),\n",
       " (0.7797581860795617, '00000000001000000000'),\n",
       " (0.810913129709661, '00000000000100000000'),\n",
       " (0.8996576184872538, '00000000000000000100'),\n",
       " (0.9164007280487567, '00000000000000010000')]"
      ]
     },
     "execution_count": 9,
     "metadata": {},
     "output_type": "execute_result"
    }
   ],
   "source": [
    "#The first element in the genotypes are the neutral variants.\n",
    "#The first value is the position.  The second value is a string\n",
    "#of genotypes for chromosomes 1 through n.  0 = ancestral/1=derived\n",
    "data[0][0][0]"
   ]
  },
  {
   "cell_type": "code",
   "execution_count": 10,
   "metadata": {
    "collapsed": false
   },
   "outputs": [
    {
     "data": {
      "text/plain": [
       "[(0.02243150118738413, '00000000001000000000'),\n",
       " (0.8127563807647675, '00001000000000000000'),\n",
       " (0.8615972911939025, '00001000000000000000')]"
      ]
     },
     "execution_count": 10,
     "metadata": {},
     "output_type": "execute_result"
    }
   ],
   "source": [
    "#Same format for selected variants\n",
    "data[0][0][1]"
   ]
  },
  {
   "cell_type": "code",
   "execution_count": 12,
   "metadata": {
    "collapsed": false
   },
   "outputs": [
    {
     "data": {
      "text/plain": [
       "{'dcount': [1, 1, 1],\n",
       " 'ftime': [4294967295, 4294967295, 4294967295],\n",
       " 'generation': [10100, 10100, 10100],\n",
       " 'h': [0.0, 0.0, 0.0],\n",
       " 'label': [0, 0, 0],\n",
       " 'locus': [0, 0, 0],\n",
       " 'origin': [10090, 10018, 10076],\n",
       " 'p': [0.0035, 0.0475, 0.007],\n",
       " 's': [-0.31225451236724366, -0.12004595381424654, -0.13281077444110803]}"
      ]
     },
     "execution_count": 12,
     "metadata": {},
     "output_type": "execute_result"
    }
   ],
   "source": [
    "#This is a dict relating to info re:\n",
    "#the selected variants.\n",
    "#dcount = derived freq in sample\n",
    "#ftime = fixation time. 2^32-1 = has not fixed\n",
    "#generation = generation when sampling occurred\n",
    "#h = dominance\n",
    "#origin = generation when mutation entered population\n",
    "#p = population frequency\n",
    "#s = effect size/selection coefficient\n",
    "data[0][1]"
   ]
  },
  {
   "cell_type": "code",
   "execution_count": null,
   "metadata": {
    "collapsed": true
   },
   "outputs": [],
   "source": []
  },
  {
   "cell_type": "markdown",
   "metadata": {},
   "source": [
    "## Tracking mutation frequencies\n",
    "\n",
    "See the example on tracking mutation frequencies."
   ]
  },
  {
   "cell_type": "raw",
   "metadata": {},
   "source": [
    "The relevant class is :class:`fwdpy.fwdpy.FreqSampler`."
   ]
  },
  {
   "cell_type": "markdown",
   "metadata": {
    "collapsed": true
   },
   "source": [
    "See the example on fixation times for the use of this sampler"
   ]
  }
 ],
 "metadata": {
  "kernelspec": {
   "display_name": "Python 2",
   "language": "python",
   "name": "python2"
  },
  "language_info": {
   "codemirror_mode": {
    "name": "ipython",
    "version": 2
   },
   "file_extension": ".py",
   "mimetype": "text/x-python",
   "name": "python",
   "nbconvert_exporter": "python",
   "pygments_lexer": "ipython2",
   "version": "2.7.12"
  }
 },
 "nbformat": 4,
 "nbformat_minor": 0
}
