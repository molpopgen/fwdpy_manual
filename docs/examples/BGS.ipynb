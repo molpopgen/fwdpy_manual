{
 "cells": [
  {
   "cell_type": "markdown",
   "metadata": {},
   "source": [
    "# Example: background selection\n"
   ]
  },
  {
   "cell_type": "markdown",
   "metadata": {},
   "source": [
    "## Setting up the simulation\n",
    "* Neutral mutations will occur on the interval $[0,1)$.\n",
    "* Strongly-deleterious mutations will occur on the intervals $[-1,0)$ and $[1,2)$.\n",
    "* Recombination will be uniform throughout the region."
   ]
  },
  {
   "cell_type": "code",
   "execution_count": 1,
   "metadata": {
    "collapsed": false
   },
   "outputs": [],
   "source": [
    "#Use Python 3's print a a function.\n",
    "#This future-proofs the code in the notebook\n",
    "from __future__ import print_function\n",
    "#Import fwdpy.  Give it a shorter name\n",
    "import fwdpy as fp\n",
    "##Other libs we need\n",
    "import numpy as np\n",
    "import pandas as pd\n",
    "import math"
   ]
  },
  {
   "cell_type": "markdown",
   "metadata": {},
   "source": [
    "### Establishing 'regions' for mutation and recombination\n"
   ]
  },
  {
   "cell_type": "code",
   "execution_count": 2,
   "metadata": {
    "collapsed": false
   },
   "outputs": [],
   "source": [
    "# Where neutral mutations occur:\n",
    "nregions = [fp.Region(beg=0,end=1,weight=1)]"
   ]
  },
  {
   "cell_type": "code",
   "execution_count": 3,
   "metadata": {
    "collapsed": true
   },
   "outputs": [],
   "source": [
    "# Where selected mutations occur:\n",
    "sregions = [fp.ConstantS(beg=-1,end=0,weight=1,s=-0.05,h=1),\n",
    "            fp.ConstantS(beg=1,end=2,weight=1,s=-0.05,h=1)]"
   ]
  },
  {
   "cell_type": "code",
   "execution_count": 4,
   "metadata": {
    "collapsed": true
   },
   "outputs": [],
   "source": [
    "# Recombination:\n",
    "recregions = [fp.Region(beg=-1,end=2,weight=1)]"
   ]
  },
  {
   "cell_type": "markdown",
   "metadata": {},
   "source": [
    "### Population size and simulation length"
   ]
  },
  {
   "cell_type": "code",
   "execution_count": 5,
   "metadata": {
    "collapsed": true
   },
   "outputs": [],
   "source": [
    "#Population size\n",
    "N=1000\n",
    "#We'll evolve for 10N generations.\n",
    "#nlist is a list of population sizes over time.\n",
    "#len(nlist) is the length of the simulation\n",
    "#We use numpy arrays for speed and optimised RAM\n",
    "#use.  Note the dtype=np.uint32, which means 32-bit\n",
    "#unsigned integer. Failure to use this type will\n",
    "#cause a run-time error.\n",
    "nlist = np.array([N]*10*N,dtype=np.uint32)"
   ]
  },
  {
   "cell_type": "code",
   "execution_count": 6,
   "metadata": {
    "collapsed": true
   },
   "outputs": [],
   "source": [
    "#Initalize a random number generator with seed value of 101\n",
    "rng = fp.GSLrng(101)"
   ]
  },
  {
   "cell_type": "code",
   "execution_count": 7,
   "metadata": {
    "collapsed": false
   },
   "outputs": [],
   "source": [
    "#Simulate 40 replicate populations.  This uses C++11 threads behind the scenes:\n",
    "pops = fp.evolve_regions(rng,       #The random number generator \n",
    "                         40,         #The number of pops to simulate = number of threads to use.\n",
    "                         N,         #Initial population size for each of the 40 demes\n",
    "                         nlist[0:], #List of population sizes over time.\n",
    "                         0.005,     #Neutral mutation rate (per gamete, per generation)\n",
    "                         0.01,      #Deleterious mutation rate (per gamete, per generation)\n",
    "                         0.005,     #Recombination rate (per diploid, per generation)\n",
    "                         nregions,  #Defined above\n",
    "                         sregions,  #Defined above\n",
    "                         recregions)#Defined above"
   ]
  },
  {
   "cell_type": "code",
   "execution_count": 8,
   "metadata": {
    "collapsed": false
   },
   "outputs": [
    {
     "name": "stdout",
     "output_type": "stream",
     "text": [
      "40\n",
      "<type 'fwdpy.fwdpy.Spop'>\n"
     ]
    }
   ],
   "source": [
    "#Now, pops is a Python list with len(pops) = 40\n",
    "#Each element's type is fwdpy.singlepop\n",
    "print(len(pops))\n",
    "print(type(pops[0]))\n",
    "                "
   ]
  },
  {
   "cell_type": "markdown",
   "metadata": {},
   "source": [
    "## Taking samples from simulated populations"
   ]
  },
  {
   "cell_type": "code",
   "execution_count": 9,
   "metadata": {
    "collapsed": false
   },
   "outputs": [
    {
     "name": "stdout",
     "output_type": "stream",
     "text": [
      "A sample from a population is a  <type 'tuple'>\n",
      "A sample from a population is a  <type 'tuple'>\n",
      "A sample from a population is a  <type 'tuple'>\n",
      "A sample from a population is a  <type 'tuple'>\n",
      "40\n"
     ]
    }
   ],
   "source": [
    "#Use a list comprehension to get a random sample of size\n",
    "#n = 20 from each replicate\n",
    "samples = [fp.get_samples(rng,i,20) for i in pops]\n",
    "\n",
    "#Samples is now a list of tuples of two lists.\n",
    "#Each list contains tuples of mutation positions and genotypes.\n",
    "#The first list represents neutral variants.\n",
    "#The second list represents variants affecting fitness ('selected' variants)\n",
    "#We will manipulate/analyze these genotypes, etc.,\n",
    "#in a later example\n",
    "for i in samples[:4]:\n",
    "    print (\"A sample from a population is a \",type(i))\n",
    "    \n",
    "print(len(samples))"
   ]
  },
  {
   "cell_type": "markdown",
   "metadata": {},
   "source": [
    "### Getting additional information about samples"
   ]
  },
  {
   "cell_type": "code",
   "execution_count": 10,
   "metadata": {
    "collapsed": false
   },
   "outputs": [],
   "source": [
    "#Again, use list comprehension to get the 'details' of each sample\n",
    "#Given that each object in samples is a tuple, and that the second\n",
    "#item in each tuple represents selected mutations, i[1] in the line\n",
    "#below means that we are getting the mutation information only for\n",
    "#selected variants\n",
    "details = [pd.DataFrame(fp.get_sample_details(i[1],j)) for i,j in zip(samples,pops)]"
   ]
  },
  {
   "cell_type": "code",
   "execution_count": 11,
   "metadata": {
    "collapsed": false
   },
   "outputs": [
    {
     "name": "stdout",
     "output_type": "stream",
     "text": [
      "   dcount       ftime  generation    h  label  locus  origin      p     s\n",
      "0       1  4294967295       10000  1.0      0      0    9974  0.004 -0.05\n",
      "   dcount       ftime  generation    h  label  locus  origin       p     s\n",
      "0       1  4294967295       10000  1.0      0      0    9976  0.0090 -0.05\n",
      "1       1  4294967295       10000  1.0      0      0    9939  0.0090 -0.05\n",
      "2       1  4294967295       10000  1.0      0      0    9957  0.0030 -0.05\n",
      "3       1  4294967295       10000  1.0      0      0    9991  0.0005 -0.05\n",
      "4       1  4294967295       10000  1.0      0      0    9946  0.0040 -0.05\n",
      "5       1  4294967295       10000  1.0      0      0    9996  0.0035 -0.05\n",
      "   dcount       ftime  generation    h  label  locus  origin       p     s\n",
      "0       1  4294967295       10000  1.0      0      0    9984  0.0035 -0.05\n",
      "1       1  4294967295       10000  1.0      0      0    9975  0.0015 -0.05\n",
      "2       1  4294967295       10000  1.0      0      0    9983  0.0020 -0.05\n",
      "3       1  4294967295       10000  1.0      0      0    9998  0.0010 -0.05\n",
      "4       1  4294967295       10000  1.0      0      0    9940  0.0045 -0.05\n",
      "   dcount       ftime  generation    h  label  locus  origin       p     s\n",
      "0       1  4294967295       10000  1.0      0      0    9990  0.0045 -0.05\n",
      "1       2  4294967295       10000  1.0      0      0    9953  0.0300 -0.05\n",
      "2       1  4294967295       10000  1.0      0      0    9968  0.0035 -0.05\n",
      "3       1  4294967295       10000  1.0      0      0    9987  0.0005 -0.05\n"
     ]
    }
   ],
   "source": [
    "#details is now a list of pandas DataFrame objects\n",
    "#Each DataFrame has the following columns:\n",
    "#  a: mutation age (in generations)\n",
    "#  h: dominance of the mutation\n",
    "#  p: frequency of the mutation in the population\n",
    "#  s: selection coefficient of the mutation\n",
    "#  label: A label applied for mutations for each region.  Here, I use 0 for all regions\n",
    "for i in details[:4]:\n",
    "    print(i)"
   ]
  },
  {
   "cell_type": "code",
   "execution_count": 12,
   "metadata": {
    "collapsed": false
   },
   "outputs": [
    {
     "name": "stdout",
     "output_type": "stream",
     "text": [
      "Number of sites in samples[0] = 1. Number of rows in DataFrame 0 = 1\n",
      "Number of sites in samples[1] = 6. Number of rows in DataFrame 1 = 6\n",
      "Number of sites in samples[2] = 5. Number of rows in DataFrame 2 = 5\n",
      "Number of sites in samples[3] = 4. Number of rows in DataFrame 3 = 4\n"
     ]
    }
   ],
   "source": [
    "#The order of the rows in each DataFrame is the\n",
    "#same as the order as the objects in 'samples':\n",
    "for i in range(4):\n",
    "    print(\"Number of sites in samples[\",i,\"] = \",\n",
    "          len(samples[i][1]),\". Number of rows in DataFrame \",i,\n",
    "          \" = \",len(details[i].index),sep=\"\")"
   ]
  },
  {
   "cell_type": "code",
   "execution_count": 13,
   "metadata": {
    "collapsed": true
   },
   "outputs": [],
   "source": [
    "#Pandas DataFrames are cool.\n",
    "#Let's add a column to each DataFrame\n",
    "#specifying the mutation position,\n",
    "#count of derived state,\n",
    "#and a \"replicate ID\"\n",
    "for i in range(len(details)):\n",
    "    ##samples[i][1] again is the selected mutations in the sample taken\n",
    "    ##from the i-th replicate\n",
    "    details[i]['pos']=[x[0] for x in samples[i][1]]               #Mutation position\n",
    "    details[i]['count']=[ x[1].count('1') for x in samples[i][1]] #No. occurrences of derived state in sample\n",
    "    details[i]['id']=[i]*len(details[i].index)                    #Replicate id"
   ]
  },
  {
   "cell_type": "code",
   "execution_count": 14,
   "metadata": {
    "collapsed": false
   },
   "outputs": [
    {
     "name": "stdout",
     "output_type": "stream",
     "text": [
      "This is the merged table:\n",
      "    dcount       ftime  generation    h  label  locus  origin       p     s  \\\n",
      "0        1  4294967295       10000  1.0      0      0    9974  0.0040 -0.05   \n",
      "0        1  4294967295       10000  1.0      0      0    9976  0.0090 -0.05   \n",
      "1        1  4294967295       10000  1.0      0      0    9939  0.0090 -0.05   \n",
      "2        1  4294967295       10000  1.0      0      0    9957  0.0030 -0.05   \n",
      "3        1  4294967295       10000  1.0      0      0    9991  0.0005 -0.05   \n",
      "4        1  4294967295       10000  1.0      0      0    9946  0.0040 -0.05   \n",
      "5        1  4294967295       10000  1.0      0      0    9996  0.0035 -0.05   \n",
      "0        1  4294967295       10000  1.0      0      0    9984  0.0035 -0.05   \n",
      "1        1  4294967295       10000  1.0      0      0    9975  0.0015 -0.05   \n",
      "2        1  4294967295       10000  1.0      0      0    9983  0.0020 -0.05   \n",
      "3        1  4294967295       10000  1.0      0      0    9998  0.0010 -0.05   \n",
      "4        1  4294967295       10000  1.0      0      0    9940  0.0045 -0.05   \n",
      "0        1  4294967295       10000  1.0      0      0    9990  0.0045 -0.05   \n",
      "1        2  4294967295       10000  1.0      0      0    9953  0.0300 -0.05   \n",
      "2        1  4294967295       10000  1.0      0      0    9968  0.0035 -0.05   \n",
      "3        1  4294967295       10000  1.0      0      0    9987  0.0005 -0.05   \n",
      "0        1  4294967295       10000  1.0      0      0    9992  0.0010 -0.05   \n",
      "1        1  4294967295       10000  1.0      0      0    9908  0.0125 -0.05   \n",
      "2        1  4294967295       10000  1.0      0      0    9997  0.0010 -0.05   \n",
      "3        1  4294967295       10000  1.0      0      0    9999  0.0005 -0.05   \n",
      "4        1  4294967295       10000  1.0      0      0    9981  0.0065 -0.05   \n",
      "5        1  4294967295       10000  1.0      0      0    9997  0.0010 -0.05   \n",
      "0        1  4294967295       10000  1.0      0      0    9987  0.0025 -0.05   \n",
      "1        1  4294967295       10000  1.0      0      0    9864  0.0130 -0.05   \n",
      "2        1  4294967295       10000  1.0      0      0    9938  0.0035 -0.05   \n",
      "3        1  4294967295       10000  1.0      0      0    9990  0.0015 -0.05   \n",
      "4        1  4294967295       10000  1.0      0      0    9977  0.0075 -0.05   \n",
      "0        1  4294967295       10000  1.0      0      0    9983  0.0025 -0.05   \n",
      "1        1  4294967295       10000  1.0      0      0    9981  0.0120 -0.05   \n",
      "2        1  4294967295       10000  1.0      0      0    9993  0.0050 -0.05   \n",
      "..     ...         ...         ...  ...    ...    ...     ...     ...   ...   \n",
      "0        1  4294967295       10000  1.0      0      0    9959  0.0060 -0.05   \n",
      "1        1  4294967295       10000  1.0      0      0    9980  0.0080 -0.05   \n",
      "2        1  4294967295       10000  1.0      0      0    9975  0.0040 -0.05   \n",
      "3        1  4294967295       10000  1.0      0      0    9976  0.0095 -0.05   \n",
      "4        1  4294967295       10000  1.0      0      0    9990  0.0005 -0.05   \n",
      "0        1  4294967295       10000  1.0      0      0    9998  0.0010 -0.05   \n",
      "1        1  4294967295       10000  1.0      0      0    9993  0.0030 -0.05   \n",
      "2        1  4294967295       10000  1.0      0      0    9958  0.0075 -0.05   \n",
      "0        1  4294967295       10000  1.0      0      0    9978  0.0035 -0.05   \n",
      "1        1  4294967295       10000  1.0      0      0    9959  0.0125 -0.05   \n",
      "2        1  4294967295       10000  1.0      0      0    9984  0.0065 -0.05   \n",
      "3        1  4294967295       10000  1.0      0      0    9985  0.0020 -0.05   \n",
      "4        1  4294967295       10000  1.0      0      0    9982  0.0065 -0.05   \n",
      "0        1  4294967295       10000  1.0      0      0    9988  0.0020 -0.05   \n",
      "1        1  4294967295       10000  1.0      0      0    9992  0.0005 -0.05   \n",
      "2        1  4294967295       10000  1.0      0      0    9988  0.0070 -0.05   \n",
      "3        1  4294967295       10000  1.0      0      0    9982  0.0020 -0.05   \n",
      "4        1  4294967295       10000  1.0      0      0    9975  0.0020 -0.05   \n",
      "5        1  4294967295       10000  1.0      0      0    9976  0.0075 -0.05   \n",
      "0        1  4294967295       10000  1.0      0      0    9991  0.0110 -0.05   \n",
      "1        1  4294967295       10000  1.0      0      0    9985  0.0040 -0.05   \n",
      "0        1  4294967295       10000  1.0      0      0    9996  0.0035 -0.05   \n",
      "1        1  4294967295       10000  1.0      0      0    9992  0.0060 -0.05   \n",
      "2        1  4294967295       10000  1.0      0      0    9998  0.0010 -0.05   \n",
      "3        1  4294967295       10000  1.0      0      0    9982  0.0165 -0.05   \n",
      "0        1  4294967295       10000  1.0      0      0    9978  0.0030 -0.05   \n",
      "1        1  4294967295       10000  1.0      0      0    9981  0.0035 -0.05   \n",
      "2        1  4294967295       10000  1.0      0      0    9993  0.0020 -0.05   \n",
      "3        2  4294967295       10000  1.0      0      0    9986  0.0095 -0.05   \n",
      "4        1  4294967295       10000  1.0      0      0    9998  0.0015 -0.05   \n",
      "\n",
      "         pos  count  id  \n",
      "0   1.283749      1   0  \n",
      "0  -0.320125      1   1  \n",
      "1  -0.119514      1   1  \n",
      "2  -0.102664      1   1  \n",
      "3   1.042025      1   1  \n",
      "4   1.443235      1   1  \n",
      "5   1.804796      1   1  \n",
      "0  -0.632548      1   2  \n",
      "1  -0.460367      1   2  \n",
      "2  -0.119099      1   2  \n",
      "3  -0.055915      1   2  \n",
      "4   1.587909      1   2  \n",
      "0  -0.480663      1   3  \n",
      "1  -0.354161      2   3  \n",
      "2   1.351797      1   3  \n",
      "3   1.381058      1   3  \n",
      "0  -0.897565      1   4  \n",
      "1  -0.751551      1   4  \n",
      "2  -0.123021      1   4  \n",
      "3  -0.088541      1   4  \n",
      "4   1.242531      1   4  \n",
      "5   1.813220      1   4  \n",
      "0  -0.438263      1   5  \n",
      "1  -0.243305      1   5  \n",
      "2  -0.196773      1   5  \n",
      "3   1.483931      1   5  \n",
      "4   1.723836      1   5  \n",
      "0  -0.818220      1   6  \n",
      "1  -0.323753      1   6  \n",
      "2  -0.047837      1   6  \n",
      "..       ...    ...  ..  \n",
      "0  -0.923395      1  33  \n",
      "1  -0.880657      1  33  \n",
      "2  -0.501588      1  33  \n",
      "3   1.434086      1  33  \n",
      "4   1.897750      1  33  \n",
      "0  -0.521129      1  34  \n",
      "1  -0.083328      1  34  \n",
      "2   1.777795      1  34  \n",
      "0  -0.703952      1  35  \n",
      "1  -0.385990      1  35  \n",
      "2   1.091824      1  35  \n",
      "3   1.257222      1  35  \n",
      "4   1.772582      1  35  \n",
      "0  -0.595274      1  36  \n",
      "1  -0.499114      1  36  \n",
      "2  -0.416441      1  36  \n",
      "3  -0.320007      1  36  \n",
      "4   1.178538      1  36  \n",
      "5   1.530433      1  36  \n",
      "0  -0.941568      1  37  \n",
      "1  -0.498442      1  37  \n",
      "0  -0.221834      1  38  \n",
      "1   1.537788      1  38  \n",
      "2   1.738061      1  38  \n",
      "3   1.994364      1  38  \n",
      "0  -0.983060      1  39  \n",
      "1  -0.475971      1  39  \n",
      "2  -0.105493      1  39  \n",
      "3   1.197116      2  39  \n",
      "4   1.257867      1  39  \n",
      "\n",
      "[143 rows x 12 columns]\n"
     ]
    }
   ],
   "source": [
    "##Merge into 1 big DataFrame:\n",
    "BigTable = pd.concat(details)\n",
    "\n",
    "print(\"This is the merged table:\")\n",
    "print(BigTable)"
   ]
  },
  {
   "cell_type": "markdown",
   "metadata": {},
   "source": [
    "## Summary statistics from samples\n",
    "\n",
    "We will use the [pylibseq](http://molpopgen.github.io/pylibseq/) package to calculate summary statistics.  pylibseq is a Python wrapper around [libsequence](http://molpopgen.github.io/libsequence/)."
   ]
  },
  {
   "cell_type": "code",
   "execution_count": 15,
   "metadata": {
    "collapsed": false
   },
   "outputs": [
    {
     "data": {
      "text/html": [
       "<div>\n",
       "<table border=\"1\" class=\"dataframe\">\n",
       "  <thead>\n",
       "    <tr style=\"text-align: right;\">\n",
       "      <th></th>\n",
       "      <th>npoly</th>\n",
       "      <th>thetapi</th>\n",
       "      <th>thetaw</th>\n",
       "    </tr>\n",
       "  </thead>\n",
       "  <tbody>\n",
       "    <tr>\n",
       "      <th>0</th>\n",
       "      <td>48</td>\n",
       "      <td>12.636842</td>\n",
       "      <td>13.529741</td>\n",
       "    </tr>\n",
       "    <tr>\n",
       "      <th>1</th>\n",
       "      <td>49</td>\n",
       "      <td>12.563158</td>\n",
       "      <td>13.811611</td>\n",
       "    </tr>\n",
       "    <tr>\n",
       "      <th>2</th>\n",
       "      <td>97</td>\n",
       "      <td>35.968421</td>\n",
       "      <td>27.341352</td>\n",
       "    </tr>\n",
       "    <tr>\n",
       "      <th>3</th>\n",
       "      <td>50</td>\n",
       "      <td>12.921053</td>\n",
       "      <td>14.093481</td>\n",
       "    </tr>\n",
       "    <tr>\n",
       "      <th>4</th>\n",
       "      <td>68</td>\n",
       "      <td>17.015789</td>\n",
       "      <td>19.167134</td>\n",
       "    </tr>\n",
       "    <tr>\n",
       "      <th>5</th>\n",
       "      <td>32</td>\n",
       "      <td>8.584211</td>\n",
       "      <td>9.019828</td>\n",
       "    </tr>\n",
       "    <tr>\n",
       "      <th>6</th>\n",
       "      <td>65</td>\n",
       "      <td>18.905263</td>\n",
       "      <td>18.321525</td>\n",
       "    </tr>\n",
       "    <tr>\n",
       "      <th>7</th>\n",
       "      <td>63</td>\n",
       "      <td>20.036842</td>\n",
       "      <td>17.757786</td>\n",
       "    </tr>\n",
       "    <tr>\n",
       "      <th>8</th>\n",
       "      <td>90</td>\n",
       "      <td>28.968421</td>\n",
       "      <td>25.368265</td>\n",
       "    </tr>\n",
       "    <tr>\n",
       "      <th>9</th>\n",
       "      <td>45</td>\n",
       "      <td>12.452632</td>\n",
       "      <td>12.684133</td>\n",
       "    </tr>\n",
       "    <tr>\n",
       "      <th>10</th>\n",
       "      <td>47</td>\n",
       "      <td>12.242105</td>\n",
       "      <td>13.247872</td>\n",
       "    </tr>\n",
       "    <tr>\n",
       "      <th>11</th>\n",
       "      <td>71</td>\n",
       "      <td>20.752632</td>\n",
       "      <td>20.012742</td>\n",
       "    </tr>\n",
       "    <tr>\n",
       "      <th>12</th>\n",
       "      <td>69</td>\n",
       "      <td>19.900000</td>\n",
       "      <td>19.449003</td>\n",
       "    </tr>\n",
       "    <tr>\n",
       "      <th>13</th>\n",
       "      <td>59</td>\n",
       "      <td>10.900000</td>\n",
       "      <td>16.630307</td>\n",
       "    </tr>\n",
       "    <tr>\n",
       "      <th>14</th>\n",
       "      <td>52</td>\n",
       "      <td>14.494737</td>\n",
       "      <td>14.657220</td>\n",
       "    </tr>\n",
       "    <tr>\n",
       "      <th>15</th>\n",
       "      <td>51</td>\n",
       "      <td>16.563158</td>\n",
       "      <td>14.375350</td>\n",
       "    </tr>\n",
       "    <tr>\n",
       "      <th>16</th>\n",
       "      <td>58</td>\n",
       "      <td>14.500000</td>\n",
       "      <td>16.348437</td>\n",
       "    </tr>\n",
       "    <tr>\n",
       "      <th>17</th>\n",
       "      <td>83</td>\n",
       "      <td>29.478947</td>\n",
       "      <td>23.395178</td>\n",
       "    </tr>\n",
       "    <tr>\n",
       "      <th>18</th>\n",
       "      <td>70</td>\n",
       "      <td>25.689474</td>\n",
       "      <td>19.730873</td>\n",
       "    </tr>\n",
       "    <tr>\n",
       "      <th>19</th>\n",
       "      <td>49</td>\n",
       "      <td>15.473684</td>\n",
       "      <td>13.811611</td>\n",
       "    </tr>\n",
       "    <tr>\n",
       "      <th>20</th>\n",
       "      <td>76</td>\n",
       "      <td>23.847368</td>\n",
       "      <td>21.422090</td>\n",
       "    </tr>\n",
       "    <tr>\n",
       "      <th>21</th>\n",
       "      <td>53</td>\n",
       "      <td>7.784211</td>\n",
       "      <td>14.939089</td>\n",
       "    </tr>\n",
       "    <tr>\n",
       "      <th>22</th>\n",
       "      <td>46</td>\n",
       "      <td>14.315789</td>\n",
       "      <td>12.966002</td>\n",
       "    </tr>\n",
       "    <tr>\n",
       "      <th>23</th>\n",
       "      <td>83</td>\n",
       "      <td>27.100000</td>\n",
       "      <td>23.395178</td>\n",
       "    </tr>\n",
       "    <tr>\n",
       "      <th>24</th>\n",
       "      <td>59</td>\n",
       "      <td>17.157895</td>\n",
       "      <td>16.630307</td>\n",
       "    </tr>\n",
       "    <tr>\n",
       "      <th>25</th>\n",
       "      <td>51</td>\n",
       "      <td>14.778947</td>\n",
       "      <td>14.375350</td>\n",
       "    </tr>\n",
       "    <tr>\n",
       "      <th>26</th>\n",
       "      <td>85</td>\n",
       "      <td>20.984211</td>\n",
       "      <td>23.958917</td>\n",
       "    </tr>\n",
       "    <tr>\n",
       "      <th>27</th>\n",
       "      <td>48</td>\n",
       "      <td>12.915789</td>\n",
       "      <td>13.529741</td>\n",
       "    </tr>\n",
       "    <tr>\n",
       "      <th>28</th>\n",
       "      <td>43</td>\n",
       "      <td>9.763158</td>\n",
       "      <td>12.120393</td>\n",
       "    </tr>\n",
       "    <tr>\n",
       "      <th>29</th>\n",
       "      <td>50</td>\n",
       "      <td>12.063158</td>\n",
       "      <td>14.093481</td>\n",
       "    </tr>\n",
       "    <tr>\n",
       "      <th>30</th>\n",
       "      <td>53</td>\n",
       "      <td>8.421053</td>\n",
       "      <td>14.939089</td>\n",
       "    </tr>\n",
       "    <tr>\n",
       "      <th>31</th>\n",
       "      <td>86</td>\n",
       "      <td>26.073684</td>\n",
       "      <td>24.240787</td>\n",
       "    </tr>\n",
       "    <tr>\n",
       "      <th>32</th>\n",
       "      <td>38</td>\n",
       "      <td>10.889474</td>\n",
       "      <td>10.711045</td>\n",
       "    </tr>\n",
       "    <tr>\n",
       "      <th>33</th>\n",
       "      <td>53</td>\n",
       "      <td>13.236842</td>\n",
       "      <td>14.939089</td>\n",
       "    </tr>\n",
       "    <tr>\n",
       "      <th>34</th>\n",
       "      <td>57</td>\n",
       "      <td>9.842105</td>\n",
       "      <td>16.066568</td>\n",
       "    </tr>\n",
       "    <tr>\n",
       "      <th>35</th>\n",
       "      <td>51</td>\n",
       "      <td>11.831579</td>\n",
       "      <td>14.375350</td>\n",
       "    </tr>\n",
       "    <tr>\n",
       "      <th>36</th>\n",
       "      <td>91</td>\n",
       "      <td>29.989474</td>\n",
       "      <td>25.650135</td>\n",
       "    </tr>\n",
       "    <tr>\n",
       "      <th>37</th>\n",
       "      <td>68</td>\n",
       "      <td>18.752632</td>\n",
       "      <td>19.167134</td>\n",
       "    </tr>\n",
       "    <tr>\n",
       "      <th>38</th>\n",
       "      <td>79</td>\n",
       "      <td>23.105263</td>\n",
       "      <td>22.267699</td>\n",
       "    </tr>\n",
       "    <tr>\n",
       "      <th>39</th>\n",
       "      <td>92</td>\n",
       "      <td>27.031579</td>\n",
       "      <td>25.932004</td>\n",
       "    </tr>\n",
       "  </tbody>\n",
       "</table>\n",
       "</div>"
      ],
      "text/plain": [
       "    npoly    thetapi     thetaw\n",
       "0      48  12.636842  13.529741\n",
       "1      49  12.563158  13.811611\n",
       "2      97  35.968421  27.341352\n",
       "3      50  12.921053  14.093481\n",
       "4      68  17.015789  19.167134\n",
       "5      32   8.584211   9.019828\n",
       "6      65  18.905263  18.321525\n",
       "7      63  20.036842  17.757786\n",
       "8      90  28.968421  25.368265\n",
       "9      45  12.452632  12.684133\n",
       "10     47  12.242105  13.247872\n",
       "11     71  20.752632  20.012742\n",
       "12     69  19.900000  19.449003\n",
       "13     59  10.900000  16.630307\n",
       "14     52  14.494737  14.657220\n",
       "15     51  16.563158  14.375350\n",
       "16     58  14.500000  16.348437\n",
       "17     83  29.478947  23.395178\n",
       "18     70  25.689474  19.730873\n",
       "19     49  15.473684  13.811611\n",
       "20     76  23.847368  21.422090\n",
       "21     53   7.784211  14.939089\n",
       "22     46  14.315789  12.966002\n",
       "23     83  27.100000  23.395178\n",
       "24     59  17.157895  16.630307\n",
       "25     51  14.778947  14.375350\n",
       "26     85  20.984211  23.958917\n",
       "27     48  12.915789  13.529741\n",
       "28     43   9.763158  12.120393\n",
       "29     50  12.063158  14.093481\n",
       "30     53   8.421053  14.939089\n",
       "31     86  26.073684  24.240787\n",
       "32     38  10.889474  10.711045\n",
       "33     53  13.236842  14.939089\n",
       "34     57   9.842105  16.066568\n",
       "35     51  11.831579  14.375350\n",
       "36     91  29.989474  25.650135\n",
       "37     68  18.752632  19.167134\n",
       "38     79  23.105263  22.267699\n",
       "39     92  27.031579  25.932004"
      ]
     },
     "execution_count": 15,
     "metadata": {},
     "output_type": "execute_result"
    }
   ],
   "source": [
    "import libsequence.polytable as polyt\n",
    "import libsequence.summstats as sstats\n",
    "\n",
    "#Convert neutral mutations into libsequence \"SimData\" objects, \n",
    "#which are intended to handle binary (0/1) data like\n",
    "#what comes out of these simulations\n",
    "n = [polyt.SimData(i[0]) for i in samples]\n",
    "\n",
    "#Create \"factories\" for calculating the summary stats\n",
    "an = [sstats.PolySIM(i) for i in n]\n",
    "\n",
    "##Collect a bunch of summary stats into a pandas.DataFrame:\n",
    "NeutralMutStats = pd.DataFrame([ {'thetapi':i.thetapi(),'npoly':i.numpoly(),'thetaw':i.thetaw()} for i in an ])\n",
    "\n",
    "NeutralMutStats"
   ]
  },
  {
   "cell_type": "markdown",
   "metadata": {
    "collapsed": true
   },
   "source": [
    "### The average $\\pi$ under the model\n",
    "\n",
    "Under the BGS model, the expectation of $\\pi$ is $E[\\pi]=\\pi_0e^{-\\frac{U}{2sh+r}},$ $U$ is the mutation rate to strongly-deleterious variants, $\\pi_0$ is the value expected in the absence of BGS (_i.e._ $\\pi_0 = \\theta = 4N_e\\mu$), $s$ and $h$ are the selection and dominance coefficients, and $r$ is the recombination rate.\n",
    "\n",
    "Note that the definition of $U$ is _per diploid_, meaning twice the per gamete rate. (See Hudson and Kaplan (1995) PMC1206891 for details).\n",
    "\n",
    "For our parameters, we have $E[\\pi] = 20e^{-\\frac{0.02}{0.1+0.005}},$ which equals:"
   ]
  },
  {
   "cell_type": "code",
   "execution_count": 16,
   "metadata": {
    "collapsed": false
   },
   "outputs": [
    {
     "name": "stdout",
     "output_type": "stream",
     "text": [
      "16.5313087525\n"
     ]
    }
   ],
   "source": [
    "print(20*math.exp(-0.02/(0.1+0.005)))"
   ]
  },
  {
   "cell_type": "markdown",
   "metadata": {},
   "source": [
    "Now, let's get the average $\\pi$ from 1000 simulated replicates.  We already have 40 replicates that we did above, so we'll run another 24 sets of four populations.  \n",
    "\n",
    "We will use standard Python to grow our collection of summary statistics."
   ]
  },
  {
   "cell_type": "code",
   "execution_count": 18,
   "metadata": {
    "collapsed": false
   },
   "outputs": [],
   "source": [
    "for i in range(0,24,1):\n",
    "    pops = fp.evolve_regions(rng,  \n",
    "                         40,        \n",
    "                         N,        \n",
    "                         nlist[0:],\n",
    "                         0.005,    \n",
    "                         0.01,     \n",
    "                         0.005,    \n",
    "                         nregions, \n",
    "                         sregions, \n",
    "                         recregions)\n",
    "    samples = [fp.get_samples(rng,i,20) for i in pops]\n",
    "    simdatasNeut = [polyt.SimData(i[0]) for i in samples]\n",
    "    polySIMn = [sstats.PolySIM(i) for i in simdatasNeut]\n",
    "    ##Append stats into our growing DataFrame:\n",
    "    NeutralMutStats=pd.concat([NeutralMutStats,\n",
    "                                   pd.DataFrame([ {'thetapi':i.thetapi(),\n",
    "                                                       'npoly':i.numpoly(),\n",
    "                                                       'thetaw':i.thetaw()} for i in polySIMn ])])\n"
   ]
  },
  {
   "cell_type": "markdown",
   "metadata": {},
   "source": [
    "#### Getting the mean diversity\n",
    "We've collected everything into a big pandas DataFrame.  We can easily get the mean using the built-in groupby and mean functions.  \n",
    "\n",
    "For users happier in R, you could write this DataFrame to a text file and process it using R's [dplyr](http://cran.r-project.org/web/packages/dplyr/index.html) package, which is a really excellent tool for this sort of thing."
   ]
  },
  {
   "cell_type": "code",
   "execution_count": 19,
   "metadata": {
    "collapsed": false
   },
   "outputs": [
    {
     "data": {
      "text/plain": [
       "npoly      58.372000\n",
       "thetapi    16.251858\n",
       "thetaw     16.453293\n",
       "dtype: float64"
      ]
     },
     "execution_count": 19,
     "metadata": {},
     "output_type": "execute_result"
    }
   ],
   "source": [
    "#Get means for each column:\n",
    "NeutralMutStats.mean(0)"
   ]
  },
  {
   "cell_type": "markdown",
   "metadata": {},
   "source": [
    "The 'thetapi' record is our mean $\\pi$ from all of the simulations, and it is quite close to the theoretical value. "
   ]
  }
 ],
 "metadata": {
  "kernelspec": {
   "display_name": "Python 2",
   "language": "python",
   "name": "python2"
  },
  "language_info": {
   "codemirror_mode": {
    "name": "ipython",
    "version": 2
   },
   "file_extension": ".py",
   "mimetype": "text/x-python",
   "name": "python",
   "nbconvert_exporter": "python",
   "pygments_lexer": "ipython2",
   "version": "2.7.12"
  }
 },
 "nbformat": 4,
 "nbformat_minor": 0
}
